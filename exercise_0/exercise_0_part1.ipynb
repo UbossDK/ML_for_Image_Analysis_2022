{
 "cells": [
  {
   "cell_type": "markdown",
   "metadata": {},
   "source": [
    "\n",
    "Installing Python\n",
    "=============="
   ]
  },
  {
   "cell_type": "markdown",
   "metadata": {},
   "source": [
    "Python is a very powerful high-level programming language. In this tutorial, we will be using python 3 and discuss a few core libraries in python. Although one can install python and all required packages one-by-one, that is a lot of work, and hence we recommend using [Anaconda](https://www.anaconda.com/). Anaconda is a python/R distributor which provides most necessary python packages and libraries at one place. Please follow the instructions provided in [Anaconda Documentation](https://docs.anaconda.com/anaconda/install/).\n",
    "\n",
    "\n",
    "After conda is installed, please create a virtual environment for this course (highly recommended). To set up a virtual environment called \"MLIA22\", please run the following command. Also, you can follow the instructions in [Managing Environments](https://docs.conda.io/projects/conda/en/latest/user-guide/tasks/manage-environments.html)."
   ]
  },
  {
   "cell_type": "markdown",
   "metadata": {},
   "source": [
    "#this will create an anaconda environment\n",
    "#called MLIA22 in 'path/to/anaconda3/envs/'\n",
    "conda create --name MLIA22 python=3.9"
   ]
  },
  {
   "cell_type": "markdown",
   "metadata": {},
   "source": [
    "To activate and enter the environment, run conda activate MLIA22. To deactivate the environment, either run conda deactivate MLIA22 or exit the terminal. Note that every time you want to work on the assignment, you should rerun conda activate MLIA22."
   ]
  },
  {
   "cell_type": "markdown",
   "metadata": {},
   "source": [
    "Installing libraries\n",
    "----------------------------"
   ]
  },
  {
   "cell_type": "markdown",
   "metadata": {},
   "source": [
    "Once the virtual environment is setup, you need to install the required libraries. In this tutorial, we need numpy, scipy and matplotlib. You can install it pip"
   ]
  },
  {
   "cell_type": "markdown",
   "metadata": {},
   "source": [
    "pip install numpy  ### matplotlib / scipy"
   ]
  },
  {
   "cell_type": "markdown",
   "metadata": {},
   "source": [
    "Jupyter Notebooks\n",
    "---------------------------"
   ]
  },
  {
   "cell_type": "markdown",
   "metadata": {},
   "source": [
    "Before we jump into the tutorial, we need to talk about notebooks. A Jupyter notebook lets you write and execute Python code locally in your web browser. Jupyter notebooks make it very easy to play around with code and execute it in bits and pieces; for this reason they are widely used in scientific computing. Colab on the other hand is Google’s flavor of Jupyter notebooks that is particularly suited for machine learning and data analysis and that runs entirely in the cloud. Colab is basically Jupyter notebook on steroids: it’s free, requires no setup, comes preinstalled with many packages, is easy to share with the world, and benefits from free access to hardware accelerators like GPUs and TPUs (with some caveats).\n",
    "\n",
    "If you wish to run the notebook locally with Jupyter, make sure your virtual environment is installed correctly (as per the setup instructions), activate it, then run pip install jupyter. And then run jupyter-notebook to launch a jupyter-notebook"
   ]
  },
  {
   "cell_type": "markdown",
   "metadata": {},
   "source": [
    "Python\n",
    "======"
   ]
  },
  {
   "cell_type": "markdown",
   "metadata": {},
   "source": [
    "Python is a very powerful high-level programming language. Python code is very readable but uses a few lines of code to express very powerful ideas. As an example, here is a python function. Can you recognise what is happening here?"
   ]
  },
  {
   "cell_type": "code",
   "execution_count": 1,
   "metadata": {},
   "outputs": [],
   "source": [
    "def do_something(arr):\n",
    "    if len(arr) <= 1:\n",
    "        return arr\n",
    "    pivot = arr[len(arr) // 2]\n",
    "    left = [x for x in arr if x < pivot]\n",
    "    middle = [x for x in arr if x == pivot]\n",
    "    right = [x for x in arr if x > pivot]\n",
    "    return do_something(left) + middle + do_something(right)"
   ]
  },
  {
   "cell_type": "code",
   "execution_count": 2,
   "metadata": {},
   "outputs": [
    {
     "name": "stdout",
     "output_type": "stream",
     "text": [
      "[1, 1, 2, 3, 6, 8, 10]\n"
     ]
    }
   ],
   "source": [
    "print(do_something([3,6,8,10,1,2,1]))"
   ]
  },
  {
   "cell_type": "markdown",
   "metadata": {},
   "source": [
    "Data types in Python\n",
    "------------------------------\n",
    "\n",
    "Python supports a number of basic types including integers, floats, booleans, and strings. These data types behave in ways that are familiar from other programming languages.\n",
    "\n",
    "Numbers: Integers, floats and complex numbers. For more details, refer to [built-in types](https://docs.python.org/3.5/library/stdtypes.html#numeric-types-int-float-complex)."
   ]
  },
  {
   "cell_type": "code",
   "execution_count": 2,
   "metadata": {},
   "outputs": [],
   "source": [
    "x = 3\n",
    "print(type(x)) # Prints \"<class 'int'>\"\n",
    "print(x)       # Prints \"3\"\n",
    "print(x + 1)   # Addition; prints \"4\"\n",
    "print(x - 1)   # Subtraction; prints \"2\"\n",
    "print(x * 2)   # Multiplication; prints \"6\"\n",
    "print(x ** 2)  # Exponentiation; prints \"9\"\n",
    "x += 1\n",
    "print(x)  # Prints \"4\"\n",
    "x *= 2\n",
    "print(x)  # Prints \"8\"\n",
    "y = 2.5\n",
    "print(type(y)) # Prints \"<class 'float'>\"\n",
    "print(y, y + 1, y * 2, y ** 2) "
   ]
  },
  {
   "cell_type": "markdown",
   "metadata": {},
   "source": [
    "Booleans: Python implements the usual operators for Boolean logic, but uses English words rather than symbols (&&, ||, etc.)"
   ]
  },
  {
   "cell_type": "code",
   "execution_count": null,
   "metadata": {},
   "outputs": [],
   "source": [
    "t = True\n",
    "f = False\n",
    "print(type(t)) # Prints \"<class 'bool'>\"\n",
    "print(t and f) # Logical AND; prints \"False\"\n",
    "print(t or f)  # Logical OR; prints \"True\"\n",
    "print(not t)   # Logical NOT; prints \"False\"\n",
    "print(t != f)"
   ]
  },
  {
   "cell_type": "markdown",
   "metadata": {},
   "source": [
    "Strings: Python has great support for strings and has a bunch of very useful methods. You can find more information on [string methods](https://docs.python.org/3.5/library/stdtypes.html#string-methods). Example:"
   ]
  },
  {
   "cell_type": "code",
   "execution_count": null,
   "metadata": {},
   "outputs": [],
   "source": [
    "hello = 'hello'    # String literals can use single quotes\n",
    "world = \"world\"    # or double quotes; it does not matter.\n",
    "print(hello)       # Prints \"hello\"\n",
    "print(len(hello))  # String length; prints \"5\"\n",
    "hw = hello + ' ' + world  # String concatenation\n",
    "print(hw)  # prints \"hello world\"\n",
    "hw12 = '%s %s %d' % (hello, world, 12)  # sprintf style string formatting\n",
    "print(hw12)  # prints \"hello world 12\""
   ]
  },
  {
   "cell_type": "code",
   "execution_count": null,
   "metadata": {},
   "outputs": [],
   "source": [
    "s = \"hello\"\n",
    "print(s.capitalize())  # Capitalize a string; prints \"Hello\"\n",
    "print(s.upper())       # Convert a string to uppercase; prints \"HELLO\"\n",
    "print(s.rjust(7))      # Right-justify a string, padding with spaces; prints \"  hello\"\n",
    "print(s.center(7))     # Center a string, padding with spaces; prints \" hello \"\n",
    "print(s.replace('l', '(ell)'))  # Replace all instances of one substring with another;\n",
    "                                # prints \"he(ell)(ell)o\"\n",
    "print('  world '.strip())  # Strip leading and trailing whitespace; prints \"world\""
   ]
  },
  {
   "cell_type": "markdown",
   "metadata": {},
   "source": [
    "Python Containers\n",
    "---------------------------\n",
    "\n",
    "A container is an object that is used to store different objects and provide a way to access the contained objects and iterate over them. Python includes several built-in container types: lists, dictionaries, sets, and tuples."
   ]
  },
  {
   "cell_type": "markdown",
   "metadata": {},
   "source": [
    "Lists and Slicing: A list is the Python equivalent of an array, but it is resizeable and can contain elements of different types. In addition to accessing list elements one at a time, Python provides concise syntax to access sublists; this is known as slicing. You can find more details in [more on lists](https://docs.python.org/3.5/tutorial/datastructures.html#more-on-lists)."
   ]
  },
  {
   "cell_type": "code",
   "execution_count": null,
   "metadata": {},
   "outputs": [],
   "source": [
    "xs = [3, 1, 2]    # Create a list\n",
    "print(xs, xs[2])  # Prints \"[3, 1, 2] 2\"\n",
    "print(xs[-1])     # Negative indices count from the end of the list; prints \"2\"\n",
    "xs[2] = 'foo'     # Lists can contain elements of different types\n",
    "print(xs)         # Prints \"[3, 1, 'foo']\"\n",
    "xs.append('bar')  # Add a new element to the end of the list\n",
    "print(xs)         # Prints \"[3, 1, 'foo', 'bar']\"\n",
    "x = xs.pop()      # Remove and return the last element of the list\n",
    "print(x, xs) "
   ]
  },
  {
   "cell_type": "code",
   "execution_count": null,
   "metadata": {},
   "outputs": [],
   "source": [
    "nums = list(range(5))     # range is a built-in function that creates a list of integers\n",
    "print(nums)               # Prints \"[0, 1, 2, 3, 4]\"\n",
    "print(nums[2:4])          # Get a slice from index 2 to 4 (exclusive); prints \"[2, 3]\"\n",
    "print(nums[2:])           # Get a slice from index 2 to the end; prints \"[2, 3, 4]\"\n",
    "print(nums[:2])           # Get a slice from the start to index 2 (exclusive); prints \"[0, 1]\"\n",
    "print(nums[:])            # Get a slice of the whole list; prints \"[0, 1, 2, 3, 4]\"\n",
    "print(nums[:-1])          # Slice indices can be negative; prints \"[0, 1, 2, 3]\"\n",
    "nums[2:4] = [8, 9]        # Assign a new sublist to a slice\n",
    "print(nums)"
   ]
  },
  {
   "cell_type": "markdown",
   "metadata": {},
   "source": [
    "Looping and List comprehensions: You can always loop over elements of a list and also modify them to obtain a different data type."
   ]
  },
  {
   "cell_type": "code",
   "execution_count": null,
   "metadata": {},
   "outputs": [],
   "source": [
    "### Looping over elements\n",
    "nums = [0, 1, 2, 3, 4]\n",
    "squares = []\n",
    "for x in nums:\n",
    "    squares.append(x ** 2)\n",
    "print(squares)"
   ]
  },
  {
   "cell_type": "code",
   "execution_count": null,
   "metadata": {},
   "outputs": [],
   "source": [
    "### Looping and accessing each element\n",
    "animals = ['cat', 'dog', 'monkey']\n",
    "for idx, animal in enumerate(animals):\n",
    "    print('#%d: %s' % (idx + 1, animal))"
   ]
  },
  {
   "cell_type": "code",
   "execution_count": null,
   "metadata": {},
   "outputs": [],
   "source": [
    "### List comprehension\n",
    "nums = [0, 1, 2, 3, 4]\n",
    "squares = [x ** 2 for x in nums]\n",
    "print(squares)"
   ]
  },
  {
   "cell_type": "code",
   "execution_count": null,
   "metadata": {},
   "outputs": [],
   "source": [
    "### List comprehension with conditions\n",
    "nums = [0, 1, 2, 3, 4]\n",
    "even_squares = [x ** 2 for x in nums if x % 2 == 0]\n",
    "print(even_squares)"
   ]
  },
  {
   "cell_type": "markdown",
   "metadata": {},
   "source": [
    "Dictionaries: A dictionary stores (key, value) pairs. You can find out more on [dictionary](https://docs.python.org/3.5/library/stdtypes.html#dict). We will see some examples on how to loop over and to use dictionary comprehensions."
   ]
  },
  {
   "cell_type": "code",
   "execution_count": null,
   "metadata": {},
   "outputs": [],
   "source": [
    "### Dictionary\n",
    "d = {'cat': 'cute', 'dog': 'furry'}  # Create a new dictionary with some data\n",
    "print(d['cat'])       # Get an entry from a dictionary; prints \"cute\"\n",
    "print('cat' in d)     # Check if a dictionary has a given key; prints \"True\"\n",
    "d['fish'] = 'wet'     # Set an entry in a dictionary\n",
    "print(d['fish'])      # Prints \"wet\"\n",
    "print(d['monkey'])    # KeyError: 'monkey' not a key of d\n",
    "print(d.get('monkey', 'N/A'))  # Get an element with a default; prints \"N/A\"\n",
    "print(d.get('fish', 'N/A'))    # Get an element with a default; prints \"wet\"\n",
    "del d['fish']         # Remove an element from a dictionary\n",
    "print(d.get('fish', 'N/A')) # \"fish\" is no longer a key; prints \"N/A\""
   ]
  },
  {
   "cell_type": "code",
   "execution_count": null,
   "metadata": {},
   "outputs": [],
   "source": [
    "###Looping over a dictionary\n",
    "d = {'person': 2, 'cat': 4, 'spider': 8}\n",
    "for animal in d:\n",
    "    legs = d[animal]\n",
    "    print('A %s has %d legs' % (animal, legs))\n",
    "# Prints \"A person has 2 legs\", \"A cat has 4 legs\", \"A spider has 8 legs\""
   ]
  },
  {
   "cell_type": "code",
   "execution_count": null,
   "metadata": {},
   "outputs": [],
   "source": [
    "###Accessing keys and their corresponding values\n",
    "d = {'person': 2, 'cat': 4, 'spider': 8}\n",
    "for animal, legs in d.items():\n",
    "    print('A %s has %d legs' % (animal, legs))\n",
    "# Prints \"A person has 2 legs\", \"A cat has 4 legs\", \"A spider has 8 legs\""
   ]
  },
  {
   "cell_type": "code",
   "execution_count": null,
   "metadata": {},
   "outputs": [],
   "source": [
    "### Dictionary comprehension\n",
    "nums = [0, 1, 2, 3, 4]\n",
    "even_num_to_square = {x: x ** 2 for x in nums if x % 2 == 0}\n",
    "print(even_num_to_square)  # Prints \"{0: 0, 2: 4, 4: 16}\""
   ]
  },
  {
   "cell_type": "markdown",
   "metadata": {},
   "source": [
    "Sets: A set is a collection of unordered elements. If you would like to know more, please follow the link to [sets](https://docs.python.org/3.5/library/stdtypes.html#set)."
   ]
  },
  {
   "cell_type": "code",
   "execution_count": null,
   "metadata": {},
   "outputs": [],
   "source": [
    "animals = {'cat', 'dog'}"
   ]
  },
  {
   "cell_type": "markdown",
   "metadata": {},
   "source": [
    "### Task 0.1:\n",
    "Print index and the animal name in the order that it appears in the set"
   ]
  },
  {
   "cell_type": "code",
   "execution_count": 1,
   "metadata": {},
   "outputs": [
    {
     "data": {
      "text/plain": [
       "'Your code here'"
      ]
     },
     "execution_count": 1,
     "metadata": {},
     "output_type": "execute_result"
    }
   ],
   "source": [
    "### Task 0.1 solution\n",
    "'''Your code here'''"
   ]
  },
  {
   "cell_type": "markdown",
   "metadata": {},
   "source": [
    "Tuple: A tuple is an (immutable) ordered list of elements. A tuple is very similar to a list; one of the most important difference is that tuples can be used as keys in dictionaries and as elements of sets, while lists cannot be. Here is a trivial example. And ofcourse, you can find further information on [tuples](https://docs.python.org/3.5/tutorial/datastructures.html#tuples-and-sequences)."
   ]
  },
  {
   "cell_type": "code",
   "execution_count": null,
   "metadata": {},
   "outputs": [],
   "source": [
    "t = (5, 6)        # Create a tuple\n",
    "print(type(t))    # Prints \"<class 'tuple'>\"\n",
    "d = {(x, x + 1): x for x in range(10)}  # Create a dictionary with tuple keys\n",
    "print(d[t])       # Prints \"5\"\n",
    "print(d[(1, 2)])  # Prints \"1\""
   ]
  },
  {
   "cell_type": "markdown",
   "metadata": {},
   "source": [
    "Functions\n",
    "--------------\n",
    "\n",
    "A function is a group of commands that perform a specific task. Python functions are defined using the def keyword. And of course there is always some additional information. You can futher read about it in [functions](https://docs.python.org/3.5/tutorial/controlflow.html#defining-functions). Below you will see an example."
   ]
  },
  {
   "cell_type": "code",
   "execution_count": null,
   "metadata": {},
   "outputs": [],
   "source": [
    "def hello(name, loud=False):\n",
    "    if loud:\n",
    "        print('HELLO, %s!' % name.upper())\n",
    "    else:\n",
    "        print('Hello, %s' % name)\n",
    "\n",
    "hello('Bob') # Prints \"Hello, Bob\"\n",
    "hello('Fred', loud=True)  # Prints \"HELLO, FRED!\""
   ]
  },
  {
   "cell_type": "code",
   "execution_count": 9,
   "metadata": {},
   "outputs": [],
   "source": [
    "def sign(x):\n",
    "    if x > 0:\n",
    "        return 'positive'\n",
    "    elif x < 0:\n",
    "        return 'negative'\n",
    "    else:\n",
    "        return 'zero'"
   ]
  },
  {
   "cell_type": "markdown",
   "metadata": {},
   "source": [
    "### Task 0.2: \n",
    "Define a list with 3 or more elements and check if these elements are positive, negative or zero"
   ]
  },
  {
   "cell_type": "code",
   "execution_count": null,
   "metadata": {},
   "outputs": [],
   "source": [
    "### Task 0.2\n",
    "'''Your code here'''"
   ]
  },
  {
   "cell_type": "markdown",
   "metadata": {},
   "source": [
    "### Task 0.3: \n",
    "Write a function to check if a number is even or odd"
   ]
  },
  {
   "cell_type": "code",
   "execution_count": null,
   "metadata": {},
   "outputs": [],
   "source": [
    "### Task 0.3\n",
    "'''Your code here'''"
   ]
  },
  {
   "cell_type": "markdown",
   "metadata": {},
   "source": [
    "Numpy\n",
    "----------\n",
    "\n",
    "Numpy is the core library for scientific computing in Python. It provides a high-performance multidimensional array object, and tools for working with these arrays. If you are already familiar with MATLAB, you might find this tutorial useful to get started with Numpy.\n",
    "\n",
    "Arrays\n",
    "\n",
    "A numpy array is a grid of values, all of the same type, and is indexed by a tuple of nonnegative integers. The number of dimensions is the rank of the array; the shape of an array is a tuple of integers giving the size of the array along each dimension.\n",
    "\n",
    "We can initialize numpy arrays from nested Python lists, and access elements using square brackets. You can read about other methods of array creation in [array creation](https://numpy.org/doc/stable/user/basics.creation.html#arrays-creation)."
   ]
  },
  {
   "cell_type": "code",
   "execution_count": null,
   "metadata": {},
   "outputs": [],
   "source": [
    "import numpy as np\n",
    "\n",
    "a = np.array([1, 2, 3])   # Create a rank 1 array\n",
    "print(type(a))            # Prints \"<class 'numpy.ndarray'>\"\n",
    "print(a.shape)            # Prints \"(3,)\"\n",
    "print(a[0], a[1], a[2])   # Prints \"1 2 3\"\n",
    "a[0] = 5                  # Change an element of the array\n",
    "print(a)                  # Prints \"[5, 2, 3]\"\n",
    "\n",
    "b = np.array([[1,2,3],[4,5,6]])    # Create a rank 2 array\n",
    "print(b.shape)                     # Prints \"(2, 3)\"\n",
    "print(b[0, 0], b[0, 1], b[1, 0])   # Prints \"1 2 4\""
   ]
  },
  {
   "cell_type": "code",
   "execution_count": null,
   "metadata": {},
   "outputs": [],
   "source": [
    "#### Numpy also provides many in-built functions to create arrays:\n",
    "import numpy as np\n",
    "\n",
    "a = np.zeros((2,2))   # Create an array of all zeros\n",
    "print(a)              # Prints \"[[ 0.  0.]\n",
    "                      #          [ 0.  0.]]\"\n",
    "\n",
    "b = np.ones((1,2))    # Create an array of all ones\n",
    "print(b)              # Prints \"[[ 1.  1.]]\"\n",
    "\n",
    "c = np.full((2,2), 7)  # Create a constant array\n",
    "print(c)               # Prints \"[[ 7.  7.]\n",
    "                       #          [ 7.  7.]]\"\n",
    "\n",
    "d = np.eye(2)         # Create a 2x2 identity matrix\n",
    "print(d)              # Prints \"[[ 1.  0.]\n",
    "                      #          [ 0.  1.]]\"\n",
    "\n",
    "e = np.random.random((2,2))  # Create an array filled with random values\n",
    "print(e)                     # Might print \"[[ 0.91940167  0.08143941]\n",
    "                             #               [ 0.68744134  0.87236687]]\""
   ]
  },
  {
   "cell_type": "code",
   "execution_count": null,
   "metadata": {},
   "outputs": [],
   "source": [
    "###Array Indexing\n",
    "import numpy as np"
   ]
  },
  {
   "cell_type": "markdown",
   "metadata": {},
   "source": [
    "### Task 0.4: \n",
    "Create the following rank 3 array with shape (3, 4). Name the array 'a'.\n",
    "\n",
    " [[ 1  2  3  4]\n",
    "  [ 5  6  7  8]\n",
    "  [ 9 10 11 12]]"
   ]
  },
  {
   "cell_type": "code",
   "execution_count": null,
   "metadata": {},
   "outputs": [],
   "source": [
    "### Task 0.4 \n",
    "'''Your code here'''"
   ]
  },
  {
   "cell_type": "code",
   "execution_count": null,
   "metadata": {},
   "outputs": [],
   "source": [
    "# Use slicing to pull out the subarray consisting of the first 2 rows\n",
    "# and columns 1 and 2; b is the following array of shape (2, 2):\n",
    "# [[2 3]\n",
    "#  [6 7]]\n",
    "b = a[:2, 1:3]\n",
    "\n",
    "# A slice of an array is a view into the same data, so modifying it\n",
    "# will modify the original array.\n",
    "print(a[0, 1])   # Prints \"2\"\n",
    "b[0, 0] = 77     # b[0, 0] is the same piece of data as a[0, 1]\n",
    "print(a[0, 1])   # Prints \"77\""
   ]
  },
  {
   "cell_type": "code",
   "execution_count": null,
   "metadata": {},
   "outputs": [],
   "source": [
    "###Mutating elements using array indexing\n",
    "\n",
    "import numpy as np\n",
    "\n",
    "# Create a new array from which we will select elements\n",
    "a = np.array([[1,2,3], [4,5,6], [7,8,9], [10, 11, 12]])\n",
    "\n",
    "print(a)  # prints \"array([[ 1,  2,  3],\n",
    "          #                [ 4,  5,  6],\n",
    "          #                [ 7,  8,  9],\n",
    "          #                [10, 11, 12]])\"\n",
    "\n",
    "# Create an array of indices\n",
    "b = np.array([0, 2, 0, 1])\n",
    "\n",
    "# Select one element from each row of a using the indices in b\n",
    "print(a[np.arange(4), b])  # Prints \"[ 1  6  7 11]\"\n",
    "\n",
    "# Mutate one element from each row of a using the indices in b\n",
    "a[np.arange(4), b] += 10\n",
    "\n",
    "print(a)  # prints \"array([[11,  2,  3],\n",
    "          #                [ 4,  5, 16],\n",
    "          #                [17,  8,  9],\n",
    "          #                [10, 21, 12]])"
   ]
  },
  {
   "cell_type": "code",
   "execution_count": null,
   "metadata": {},
   "outputs": [],
   "source": [
    "###Boolean array indexing\n",
    "\n",
    "import numpy as np\n",
    "\n",
    "a = np.array([[1,2], [3, 4], [5, 6]])\n",
    "\n",
    "bool_idx = (a > 2)   # Find the elements of a that are bigger than 2;\n",
    "                     # this returns a numpy array of Booleans of the same\n",
    "                     # shape as a, where each slot of bool_idx tells\n",
    "                     # whether that element of a is > 2.\n",
    "\n",
    "print(bool_idx)      # Prints \"[[False False]\n",
    "                     #          [ True  True]\n",
    "                     #          [ True  True]]\"\n",
    "\n",
    "# We use boolean array indexing to construct a rank 1 array\n",
    "# consisting of the elements of a corresponding to the True values\n",
    "# of bool_idx\n",
    "print(a[bool_idx])  # Prints \"[3 4 5 6]\"\n",
    "\n",
    "# We can do all of the above in a single concise statement:\n",
    "print(a[a > 2])     # Prints \"[3 4 5 6]\""
   ]
  },
  {
   "cell_type": "markdown",
   "metadata": {},
   "source": [
    "Read more bout array indexing in [more on array indexing](https://numpy.org/doc/stable/reference/arrays.indexing.html)."
   ]
  },
  {
   "cell_type": "code",
   "execution_count": null,
   "metadata": {},
   "outputs": [],
   "source": [
    "import numpy as np\n",
    "\n",
    "x = np.array([[1,2],[3,4]])\n",
    "y = np.array([[5,6],[7,8]])\n",
    "\n",
    "v = np.array([9,10])\n",
    "w = np.array([11, 12])\n",
    "\n",
    "# Inner product of vectors; both produce 219\n",
    "print(v.dot(w))\n",
    "print(np.dot(v, w))\n",
    "\n",
    "# Matrix / vector product; both produce the rank 1 array [29 67]\n",
    "print(x.dot(v))\n",
    "print(np.dot(x, v))\n",
    "\n",
    "# Matrix / matrix product; both produce the rank 2 array\n",
    "# [[19 22]\n",
    "#  [43 50]]\n",
    "print(x.dot(y))\n",
    "print(np.dot(x, y))"
   ]
  },
  {
   "cell_type": "markdown",
   "metadata": {},
   "source": [
    "Image operations\n",
    "-------------------------\n",
    "\n",
    "[SciPy](https://docs.scipy.org/doc/scipy/) provides some basic functions to work with images. There are multiple libraries in Python to work with images. Please follow the links to learn about [PIL-tutorial](https://pillow.readthedocs.io/en/stable/handbook/tutorial.html), [Scikit-Image](https://scikit-image.org/), opencv etc.,."
   ]
  },
  {
   "cell_type": "markdown",
   "metadata": {},
   "source": [
    "Matplotlib\n",
    "---------------\n",
    "\n",
    "Matplotlib is a plotting library. In this section give a brief introduction to the matplotlib.pyplot module, which provides a plotting system similar to that of MATLAB."
   ]
  },
  {
   "cell_type": "markdown",
   "metadata": {},
   "source": [
    "Plotting: The most important function in matplotlib is plot, which allows you to plot 2D data. You can find more about plotting on [plots](https://matplotlib.org/2.0.2/api/pyplot_api.html). Here is a simple example."
   ]
  },
  {
   "cell_type": "code",
   "execution_count": 11,
   "metadata": {},
   "outputs": [
    {
     "data": {
      "image/png": "[encoded data removed]",
      "text/plain": [
       "<Figure size 432x288 with 1 Axes>"
      ]
     },
     "metadata": {
      "needs_background": "light"
     },
     "output_type": "display_data"
    }
   ],
   "source": [
    "import numpy as np\n",
    "import matplotlib.pyplot as plt\n",
    "\n",
    "# Compute the x and y coordinates for points on a sine curve\n",
    "x = np.arange(0, 3 * np.pi, 0.1)\n",
    "y = np.sin(x)\n",
    "\n",
    "# Plot the points using matplotlib\n",
    "plt.plot(x, y)\n",
    "plt.show()  # You must call plt.show() to make graphics appear."
   ]
  },
  {
   "cell_type": "code",
   "execution_count": 3,
   "metadata": {},
   "outputs": [],
   "source": [
    "import numpy as np\n",
    "import matplotlib.pyplot as plt"
   ]
  },
  {
   "cell_type": "markdown",
   "metadata": {},
   "source": [
    "### Task 0.5 : \n",
    "Compute the x and y coordinates for points on sine and cosine curves"
   ]
  },
  {
   "cell_type": "code",
   "execution_count": 5,
   "metadata": {},
   "outputs": [],
   "source": [
    "### Task 0.5\n",
    "x = np.arange(0, 3 * np.pi, 0.1)\n",
    "y_sin = np.sin(x)\n",
    "y_cos = '''Your code here'''"
   ]
  },
  {
   "cell_type": "markdown",
   "metadata": {},
   "source": [
    "### Task 0.6: \n",
    "Plot the points using matplotlib"
   ]
  },
  {
   "cell_type": "code",
   "execution_count": 6,
   "metadata": {},
   "outputs": [
    {
     "data": {
      "image/png": "[encoded data removed]",
      "text/plain": [
       "<Figure size 432x288 with 1 Axes>"
      ]
     },
     "metadata": {
      "needs_background": "light"
     },
     "output_type": "display_data"
    }
   ],
   "source": [
    "### Task 0.6\n",
    "plt.plot('''Your code here''')\n",
    "plt.plot('''Your code here''')\n",
    "plt.xlabel('x axis label')\n",
    "plt.ylabel('y axis label')\n",
    "plt.title('Sine and Cosine')\n",
    "plt.legend(['Sine', 'Cosine'])\n",
    "plt.show()"
   ]
  },
  {
   "cell_type": "code",
   "execution_count": null,
   "metadata": {},
   "outputs": [],
   "source": [
    "### Subplots\n",
    "import numpy as np\n",
    "import matplotlib.pyplot as plt\n",
    "\n",
    "# Compute the x and y coordinates for points on sine and cosine curves\n",
    "x = np.arange(0, 3 * np.pi, 0.1)\n",
    "y_sin = np.sin(x)\n",
    "y_cos = np.cos(x)\n",
    "\n",
    "# Set up a subplot grid that has height 2 and width 1,\n",
    "# and set the first such subplot as active.\n",
    "plt.subplot(2, 1, 1)\n",
    "\n",
    "# Make the first plot\n",
    "plt.plot(x, y_sin)\n",
    "plt.title('Sine')\n",
    "\n",
    "# Set the second subplot as active, and make the second plot.\n",
    "plt.subplot(2, 1, 2)\n",
    "plt.plot(x, y_cos)\n",
    "plt.title('Cosine')\n",
    "\n",
    "# Show the figure.\n",
    "plt.show()\n"
   ]
  },
  {
   "cell_type": "code",
   "execution_count": null,
   "metadata": {},
   "outputs": [],
   "source": [
    "###Images using matplotlib\n",
    "import numpy as np\n",
    "import matplotlib.pyplot as plt\n",
    "\n",
    "img_cat = plt.imread('/home/mnagath/Downloads/cat.jpg')\n",
    "img_dog = plt.imread('/home/mnagath/Downloads/dog.jpg')\n",
    "\n",
    "# Show the original image\n",
    "plt.subplot(1, 2, 1)\n",
    "plt.imshow(img_cat)\n",
    "\n",
    "# Show the tinted image\n",
    "plt.subplot(1, 2, 2)\n",
    "\n",
    "# A slight gotcha with imshow is that it might give strange results\n",
    "# if presented with data that is not uint8. To work around this, we\n",
    "# explicitly cast the image to uint8 before displaying it.\n",
    "plt.imshow(img_dog)\n",
    "plt.show()"
   ]
  },
  {
   "cell_type": "markdown",
   "metadata": {},
   "source": [
    "This tutorial is based on [numpy-python tutorial](https://cs231n.github.io/python-numpy-tutorial/)"
   ]
  }
 ],
 "metadata": {
  "kernelspec": {
   "display_name": "Python (mlfia)",
   "language": "python",
   "name": "mlfia"
  },
  "language_info": {
   "codemirror_mode": {
    "name": "ipython",
    "version": 3
   },
   "file_extension": ".py",
   "mimetype": "text/x-python",
   "name": "python",
   "nbconvert_exporter": "python",
   "pygments_lexer": "ipython3",
   "version": "3.8.13"
  }
 },
 "nbformat": 4,
 "nbformat_minor": 5
}
